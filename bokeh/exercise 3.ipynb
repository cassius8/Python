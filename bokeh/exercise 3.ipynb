{
 "cells": [
  {
   "cell_type": "code",
   "execution_count": 3,
   "metadata": {
    "collapsed": false
   },
   "outputs": [],
   "source": [
    "#Plotting flower species\n",
    " \n",
    "#Importing libraries\n",
    "from bokeh.plotting import figure\n",
    "from bokeh.io import output_file, show\n",
    "from bokeh.sampledata.iris import flowers\n",
    "from bokeh.models import Range1d, PanTool, ResetTool, HoverTool, WheelZoomTool\n",
    "from PIL import ImageGrab"
   ]
  },
  {
   "cell_type": "code",
   "execution_count": 4,
   "metadata": {
    "collapsed": true
   },
   "outputs": [],
   "source": [
    "#Define the output file path\n",
    "output_file(\"iris.html\")"
   ]
  },
  {
   "cell_type": "code",
   "execution_count": 9,
   "metadata": {
    "collapsed": false
   },
   "outputs": [],
   "source": [
    "#Create the figure object\n",
    "f=figure(tools=[PanTool(),ResetTool(),WheelZoomTool()])\n",
    " \n",
    "#Style the tools\n",
    "hover=HoverTool(tooltips=[(\"Species\",\"@species\"),(\"Sepal Width\",\"@sepal_width\")])\n",
    "f.add_tools(hover)\n",
    "f.toolbar_location='above'\n",
    "f.toolbar.logo=None\n",
    " \n",
    "#Style the plot area\n",
    "f.plot_width=int(ImageGrab.grab().width/2) #This will return your monitor width. ImageGrab was imported further above from the PIL library which can be installed with \"pip install pillow\"\n",
    "f.plot_height=int(ImageGrab.grab().height/2 - 50) #This will return your monitor width. ImageGrab was imported further above from the PIL library which can be installed witt \"pip install pillow\"\n",
    "f.background_fill_color=\"grey\"\n",
    "f.background_fill_alpha=0.1\n",
    "f.sizing_mode=\"stretch_both\" #graph will resize itself when user resizes the browser\n",
    " \n",
    "#Style the title\n",
    "f.title.text=\"Iris Morphology\"\n",
    "f.title.text_color=\"olive\"\n",
    "f.title.text_alpha=0.6\n",
    "f.title.text_font=\"antiqua\"\n",
    "f.title.text_font_size=\"18px\"\n",
    "f.title.align=\"center\"\n",
    " \n",
    "#Style the axes\n",
    "f.yaxis.major_label_orientation=\"vertical\"\n",
    "f.xaxis.minor_tick_in=-6\n",
    "f.yaxis.minor_tick_in=-6\n",
    "f.axis.minor_tick_line_color=\"grey\"\n",
    "f.axis.axis_line_color=\"olive\"\n",
    "f.xaxis.axis_label=\"Petal Length\"\n",
    "f.yaxis.axis_label=\"Petal Width\"\n",
    "f.axis.axis_label_text_color=\"olive\"\n",
    "f.axis.axis_label_text_font=\"antiqua\"\n",
    "f.axis.axis_label_text_font_style=\"bold\"\n",
    "f.axis.major_label_text_color=\"olive\"\n",
    " \n",
    "#Axes geometry\n",
    "f.x_range=Range1d(start=flowers[\"petal_length\"][flowers[\"species\"]=='versicolor'].min(),end=flowers[\"petal_length\"][flowers[\"species\"]=='versicolor'].max())\n",
    "f.y_range=Range1d(start=flowers[\"petal_width\"][flowers[\"species\"]=='versicolor'].min(),end=flowers[\"petal_width\"][flowers[\"species\"]=='versicolor'].max())\n",
    "f.xaxis[0].ticker.desired_num_ticks=6\n",
    "f.yaxis[0].ticker.desired_num_ticks=6\n",
    "f.yaxis[0].ticker.num_minor_ticks=5\n",
    "f.xaxis[0].ticker.num_minor_ticks=5\n",
    " \n",
    "#Style the grid\n",
    "f.grid.grid_line_color=(128,128,0,0.5) #equivalent to olive color with a 0.5 alpha value\n",
    "f.grid.grid_line_dash=[5,3] #5 pixels of line and 3 pixels of space \n",
    "f.grid.minor_grid_line_color=(128,128,0,0.1) #equivalent to olive color with a 0.1 alpha value\n",
    "f.grid.minor_grid_line_dash=[3,3]\n",
    " \n",
    "colormap={'setosa':'red','versicolor':'green','virginica':'blue'}\n",
    "flowers['color']=[colormap[x] for x in flowers['species']]\n",
    " \n",
    "#adding glyphs\n",
    "f.circle(x=flowers[\"petal_length\"][flowers[\"species\"]==\"setosa\"], y=flowers[\"petal_width\"][flowers[\"species\"]==\"setosa\"],\n",
    "         size=flowers['sepal_width'][flowers[\"species\"]==\"setosa\"]*4,\n",
    "         fill_alpha=0.2,color=flowers['color'][flowers[\"species\"]==\"setosa\"],line_dash=[5,3],legend='Setosa')\n",
    " \n",
    "f.circle(x=flowers[\"petal_length\"][flowers[\"species\"]==\"versicolor\"], y=flowers[\"petal_width\"][flowers[\"species\"]==\"versicolor\"],\n",
    "         size=flowers['sepal_width'][flowers[\"species\"]==\"versicolor\"]*4,\n",
    "         fill_alpha=0.2,color=flowers['color'][flowers[\"species\"]==\"versicolor\"],line_dash=[5,3],legend='Versicolor')\n",
    " \n",
    "f.circle(x=flowers[\"petal_length\"][flowers[\"species\"]==\"virginica\"], y=flowers[\"petal_width\"][flowers[\"species\"]==\"virginica\"],\n",
    "         size=flowers['sepal_width'][flowers[\"species\"]==\"virginica\"]*4,\n",
    "         fill_alpha=0.2,color=flowers['color'][flowers[\"species\"]==\"virginica\"],line_dash=[5,3],legend='Virginica')\n",
    " \n",
    "#Style the legend\n",
    "f.legend.location=\"top_left\"\n",
    "f.legend.background_fill_alpha=0\n",
    "f.legend.border_line_color=None\n",
    "f.legend.margin=10\n",
    "f.legend.padding=18\n",
    "f.legend.spacing=1\n",
    "f.legend.label_text_color='olive'\n",
    "f.legend.label_text_font='antiqua'\n",
    " \n",
    "#Save and show the figure\n",
    "show(f)"
   ]
  },
  {
   "cell_type": "code",
   "execution_count": null,
   "metadata": {
    "collapsed": true
   },
   "outputs": [],
   "source": []
  }
 ],
 "metadata": {
  "anaconda-cloud": {},
  "kernelspec": {
   "display_name": "Python [snakes]",
   "language": "python",
   "name": "Python [snakes]"
  },
  "language_info": {
   "codemirror_mode": {
    "name": "ipython",
    "version": 3
   },
   "file_extension": ".py",
   "mimetype": "text/x-python",
   "name": "python",
   "nbconvert_exporter": "python",
   "pygments_lexer": "ipython3",
   "version": "3.5.2"
  }
 },
 "nbformat": 4,
 "nbformat_minor": 0
}
