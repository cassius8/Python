{
 "cells": [
  {
   "cell_type": "code",
   "execution_count": 7,
   "metadata": {
    "collapsed": true
   },
   "outputs": [],
   "source": [
    "import random\n",
    "import pandas as pd"
   ]
  },
  {
   "cell_type": "code",
   "execution_count": 3,
   "metadata": {
    "collapsed": false,
    "deletable": true,
    "editable": true,
    "scrolled": true
   },
   "outputs": [
    {
     "name": "stdout",
     "output_type": "stream",
     "text": [
      "2.09664\n"
     ]
    }
   ],
   "source": [
    "\n",
    "#number=random.randint(0,10)\n",
    "n=0\n",
    "totGuesses=0.\n",
    "while n <100000:\n",
    "    minimum=1\n",
    "    maximum=10\n",
    "    #print \"new round\"\n",
    "    n+=1\n",
    "    target=random.randint(1,10) \n",
    "    guesses=0\n",
    "    guess=5#random.randint(0,10) \n",
    "    #print \"Target: \",target\n",
    "    #print \"first Guess\", guess\n",
    "    while guess!=target:\n",
    "        guesses+=1    \n",
    "        if guess<target:\n",
    "            minimum=guess\n",
    "            guess=(maximum-minimum)/2+minimum+1\n",
    "        else:\n",
    "            maximum=guess\n",
    "            guess=(maximum-minimum)/2+minimum\n",
    "        #print \"new guess: \",guess\n",
    "    totGuesses+=guesses\n",
    "print totGuesses/n"
   ]
  },
  {
   "cell_type": "code",
   "execution_count": 53,
   "metadata": {
    "collapsed": false,
    "deletable": true,
    "editable": true
   },
   "outputs": [
    {
     "name": "stdout",
     "output_type": "stream",
     "text": [
      "3.85107\n"
     ]
    }
   ],
   "source": [
    "n=0\n",
    "totGuesses=0.\n",
    "while n <100000:\n",
    "    minimum=1\n",
    "    maximum=10\n",
    "    #print \"new round\"\n",
    "    n+=1\n",
    "    target=random.randint(1,10) \n",
    "    guesses=0\n",
    "    guess=random.randint(1,10) \n",
    "    #print \"Target: \",target\n",
    "    #print \"first Guess\", guess\n",
    "    while guess!=target:\n",
    "        guesses+=1    \n",
    "        if guess<target:\n",
    "            minimum=guess\n",
    "            guess=random.randint(minimum,maximum)\n",
    "        else:\n",
    "            maximum=guess\n",
    "            guess=random.randint(minimum,maximum)\n",
    "        #print \"new guess: \",guess\n",
    "    totGuesses+=guesses\n",
    "print totGuesses/n"
   ]
  },
  {
   "cell_type": "code",
   "execution_count": 50,
   "metadata": {
    "collapsed": false,
    "deletable": true,
    "editable": true
   },
   "outputs": [],
   "source": [
    "import numpy as np\n",
    "n=0\n",
    "error=[]\n",
    "while n<1000000:\n",
    "    n+=1\n",
    "    target = random.randint(0,30)\n",
    "    guess = 15\n",
    "    error.append(guess-target)"
   ]
  },
  {
   "cell_type": "code",
   "execution_count": 51,
   "metadata": {
    "collapsed": false
   },
   "outputs": [
    {
     "data": {
      "text/plain": [
       "8.9451285301279171"
      ]
     },
     "execution_count": 51,
     "metadata": {},
     "output_type": "execute_result"
    }
   ],
   "source": [
    "pd.Series(error).std()"
   ]
  },
  {
   "cell_type": "code",
   "execution_count": null,
   "metadata": {
    "collapsed": true
   },
   "outputs": [],
   "source": []
  }
 ],
 "metadata": {
  "anaconda-cloud": {},
  "kernelspec": {
   "display_name": "Python [dsienv]",
   "language": "python",
   "name": "Python [dsienv]"
  },
  "language_info": {
   "codemirror_mode": {
    "name": "ipython",
    "version": 2
   },
   "file_extension": ".py",
   "mimetype": "text/x-python",
   "name": "python",
   "nbconvert_exporter": "python",
   "pygments_lexer": "ipython2",
   "version": "2.7.12"
  }
 },
 "nbformat": 4,
 "nbformat_minor": 0
}
