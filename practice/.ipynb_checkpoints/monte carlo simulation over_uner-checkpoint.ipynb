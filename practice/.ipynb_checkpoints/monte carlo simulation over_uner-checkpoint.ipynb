{
 "cells": [
  {
   "cell_type": "code",
   "execution_count": 1,
   "metadata": {
    "collapsed": true
   },
   "outputs": [],
   "source": [
    "import random"
   ]
  },
  {
   "cell_type": "code",
   "execution_count": 6,
   "metadata": {
    "collapsed": false
   },
   "outputs": [
    {
     "name": "stdout",
     "output_type": "stream",
     "text": [
      "7\n"
     ]
    }
   ],
   "source": [
    "print random.randint(0,10)"
   ]
  },
  {
   "cell_type": "code",
   "execution_count": 42,
   "metadata": {
    "collapsed": false
   },
   "outputs": [
    {
     "name": "stdout",
     "output_type": "stream",
     "text": [
      "5.602\n"
     ]
    }
   ],
   "source": [
    "number=random.randint(0,10)\n",
    "\n",
    "n=0\n",
    "totGuesses=0.\n",
    "while n <1000:\n",
    "    n+=1\n",
    "    target=random.randint(0,10) \n",
    "    guesses=0\n",
    "    guess=random.randint(0,10)   \n",
    "    while guess!=target:\n",
    "        guesses+=1    \n",
    "        if guess<target:\n",
    "            guess=random.randint(guess,10)\n",
    "        else:\n",
    "            guess=random.randint(0,guess)\n",
    "    totGuesses+=guesses\n",
    "print totGuesses/n\n",
    "    "
   ]
  },
  {
   "cell_type": "code",
   "execution_count": null,
   "metadata": {
    "collapsed": true
   },
   "outputs": [],
   "source": []
  },
  {
   "cell_type": "code",
   "execution_count": null,
   "metadata": {
    "collapsed": true
   },
   "outputs": [],
   "source": []
  }
 ],
 "metadata": {
  "anaconda-cloud": {},
  "kernelspec": {
   "display_name": "Python [dsienv]",
   "language": "python",
   "name": "Python [dsienv]"
  },
  "language_info": {
   "codemirror_mode": {
    "name": "ipython",
    "version": 2
   },
   "file_extension": ".py",
   "mimetype": "text/x-python",
   "name": "python",
   "nbconvert_exporter": "python",
   "pygments_lexer": "ipython2",
   "version": "2.7.12"
  }
 },
 "nbformat": 4,
 "nbformat_minor": 0
}
