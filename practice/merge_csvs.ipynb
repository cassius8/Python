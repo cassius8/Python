{
 "cells": [
  {
   "cell_type": "code",
   "execution_count": 5,
   "metadata": {
    "collapsed": false,
    "deletable": true,
    "editable": true
   },
   "outputs": [
    {
     "data": {
      "text/html": [
       "<div>\n",
       "<table border=\"1\" class=\"dataframe\">\n",
       "  <thead>\n",
       "    <tr style=\"text-align: right;\">\n",
       "      <th></th>\n",
       "      <th>01Rx001a</th>\n",
       "      <th>10037</th>\n",
       "      <th>10176</th>\n",
       "      <th>B26</th>\n",
       "      <th>AD2106</th>\n",
       "      <th>250538-004</th>\n",
       "    </tr>\n",
       "  </thead>\n",
       "  <tbody>\n",
       "    <tr>\n",
       "      <th>0</th>\n",
       "      <td>01Rx002a</td>\n",
       "      <td>6038</td>\n",
       "      <td>6038</td>\n",
       "      <td>B18</td>\n",
       "      <td>AD5608</td>\n",
       "      <td>210791-010</td>\n",
       "    </tr>\n",
       "    <tr>\n",
       "      <th>1</th>\n",
       "      <td>01Rx003a</td>\n",
       "      <td>6101</td>\n",
       "      <td>7101</td>\n",
       "      <td>B12</td>\n",
       "      <td>AD5302</td>\n",
       "      <td>250539-002</td>\n",
       "    </tr>\n",
       "    <tr>\n",
       "      <th>2</th>\n",
       "      <td>01Rx004a</td>\n",
       "      <td>6103</td>\n",
       "      <td>7103</td>\n",
       "      <td>B14</td>\n",
       "      <td>AD5304</td>\n",
       "      <td>250541-003</td>\n",
       "    </tr>\n",
       "    <tr>\n",
       "      <th>3</th>\n",
       "      <td>01Rx005a</td>\n",
       "      <td>6104</td>\n",
       "      <td>7104</td>\n",
       "      <td>B68</td>\n",
       "      <td>AD2108</td>\n",
       "      <td>235121-005</td>\n",
       "    </tr>\n",
       "    <tr>\n",
       "      <th>4</th>\n",
       "      <td>01Rx006a</td>\n",
       "      <td>6105</td>\n",
       "      <td>7105</td>\n",
       "      <td>B16</td>\n",
       "      <td>AD5306</td>\n",
       "      <td>250537-003</td>\n",
       "    </tr>\n",
       "  </tbody>\n",
       "</table>\n",
       "</div>"
      ],
      "text/plain": [
       "   01Rx001a  10037  10176  B26  AD2106  250538-004\n",
       "0  01Rx002a   6038   6038  B18  AD5608  210791-010\n",
       "1  01Rx003a   6101   7101  B12  AD5302  250539-002\n",
       "2  01Rx004a   6103   7103  B14  AD5304  250541-003\n",
       "3  01Rx005a   6104   7104  B68  AD2108  235121-005\n",
       "4  01Rx006a   6105   7105  B16  AD5306  250537-003"
      ]
     },
     "execution_count": 5,
     "metadata": {},
     "output_type": "execute_result"
    }
   ],
   "source": [
    "import pandas as pd\n",
    "first = pd.read_csv('2_6.csv', delim_whitespace= True)\n",
    "first.head()"
   ]
  },
  {
   "cell_type": "code",
   "execution_count": 9,
   "metadata": {
    "collapsed": false,
    "deletable": true,
    "editable": true
   },
   "outputs": [
    {
     "data": {
      "text/plain": [
       "array([ True,  True,  True,  True,  True,  True], dtype=bool)"
      ]
     },
     "execution_count": 9,
     "metadata": {},
     "output_type": "execute_result"
    }
   ],
   "source": [
    "second = pd.read_csv('2_7.csv', delim_whitespace= True)\n",
    "second.head()\n",
    "first.columns==second.columns"
   ]
  },
  {
   "cell_type": "code",
   "execution_count": 2,
   "metadata": {
    "collapsed": false,
    "deletable": true,
    "editable": true
   },
   "outputs": [
    {
     "name": "stdout",
     "output_type": "stream",
     "text": [
      "Day:  0  balance =  0\n",
      "Day:  1  balance =  0.01\n",
      "Day:  2  balance =  0.03\n",
      "Day:  3  balance =  0.07\n",
      "Day:  4  balance =  0.15\n",
      "Day:  5  balance =  0.31\n",
      "Day:  6  balance =  0.63\n",
      "Day:  7  balance =  1.27\n",
      "Day:  8  balance =  2.55\n",
      "Day:  9  balance =  5.11\n",
      "Day:  10  balance =  10.23\n",
      "Day:  11  balance =  20.47\n",
      "Day:  12  balance =  40.95\n",
      "Day:  13  balance =  81.91\n",
      "Day:  14  balance =  163.83\n",
      "Day:  15  balance =  327.67\n",
      "Day:  16  balance =  655.35\n",
      "Day:  17  balance =  1310.71\n",
      "Day:  18  balance =  2621.43\n",
      "Day:  19  balance =  5242.87\n",
      "Day:  20  balance =  10485.75\n",
      "Day:  21  balance =  20971.51\n",
      "Day:  22  balance =  41943.03\n",
      "Day:  23  balance =  83886.07\n",
      "Day:  24  balance =  167772.15\n",
      "Day:  25  balance =  335544.31\n",
      "Day:  26  balance =  671088.63\n",
      "Day:  27  balance =  1342177.27\n",
      "Day:  28  balance =  2684354.55\n",
      "Day:  29  balance =  5368709.11\n",
      "balance =  10737418.23\n"
     ]
    }
   ],
   "source": [
    "bank=0\n",
    "installment=.01\n",
    "for x in range(30):\n",
    "    print \"Day: \",x,\" balance = \",bank\n",
    "    bank+=installment\n",
    "    installment*=2\n",
    "print \"Day 30 balance = \", bank"
   ]
  },
  {
   "cell_type": "code",
   "execution_count": 3,
   "metadata": {
    "collapsed": false
   },
   "outputs": [
    {
     "data": {
      "text/plain": [
       "1073741824"
      ]
     },
     "execution_count": 3,
     "metadata": {},
     "output_type": "execute_result"
    }
   ],
   "source": [
    "2**30"
   ]
  },
  {
   "cell_type": "code",
   "execution_count": null,
   "metadata": {
    "collapsed": true
   },
   "outputs": [],
   "source": []
  }
 ],
 "metadata": {
  "anaconda-cloud": {},
  "kernelspec": {
   "display_name": "Python [dsienv]",
   "language": "python",
   "name": "Python [dsienv]"
  },
  "language_info": {
   "codemirror_mode": {
    "name": "ipython",
    "version": 2
   },
   "file_extension": ".py",
   "mimetype": "text/x-python",
   "name": "python",
   "nbconvert_exporter": "python",
   "pygments_lexer": "ipython2",
   "version": "2.7.12"
  }
 },
 "nbformat": 4,
 "nbformat_minor": 1
}
