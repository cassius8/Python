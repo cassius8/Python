{
 "cells": [
  {
   "cell_type": "code",
   "execution_count": 14,
   "metadata": {
    "collapsed": true
   },
   "outputs": [],
   "source": [
    "import pandas as pd\n",
    "%matplotlib inline\n",
    "import matplotlib.pyplot as plt\n",
    "import seaborn as sb"
   ]
  },
  {
   "cell_type": "code",
   "execution_count": 15,
   "metadata": {
    "collapsed": false
   },
   "outputs": [],
   "source": []
  },
  {
   "cell_type": "code",
   "execution_count": null,
   "metadata": {
    "collapsed": false
   },
   "outputs": [],
   "source": [
    "#import data from google_sheets\n",
    "mussels= pd.read_csv('https://docs.google.com/spreadsheets/d/10WgzQrIG648U7RA1SBvNdak6cEsb69vH_u_MYcu-I1s/export?format=csv&id')\n",
    "mussels.shape"
   ]
  },
  {
   "cell_type": "code",
   "execution_count": 17,
   "metadata": {
    "collapsed": false
   },
   "outputs": [
    {
     "data": {
      "text/html": [
       "<div>\n",
       "<table border=\"1\" class=\"dataframe\">\n",
       "  <thead>\n",
       "    <tr style=\"text-align: right;\">\n",
       "      <th></th>\n",
       "      <th>Species</th>\n",
       "      <th>Length</th>\n",
       "      <th>Height</th>\n",
       "      <th>Inflation</th>\n",
       "      <th>Mass</th>\n",
       "      <th>prizm</th>\n",
       "      <th>density</th>\n",
       "      <th>L/H</th>\n",
       "      <th>L/I</th>\n",
       "      <th>H/I</th>\n",
       "    </tr>\n",
       "  </thead>\n",
       "  <tbody>\n",
       "    <tr>\n",
       "      <th>0</th>\n",
       "      <td>pistolgrip</td>\n",
       "      <td>127.63</td>\n",
       "      <td>84.4</td>\n",
       "      <td>54.3</td>\n",
       "      <td>NaN</td>\n",
       "      <td>584918.0796</td>\n",
       "      <td>NaN</td>\n",
       "      <td>1.512204</td>\n",
       "      <td>2.350460</td>\n",
       "      <td>1.554328</td>\n",
       "    </tr>\n",
       "    <tr>\n",
       "      <th>1</th>\n",
       "      <td>texas pigtoe</td>\n",
       "      <td>88.40</td>\n",
       "      <td>70.8</td>\n",
       "      <td>50.7</td>\n",
       "      <td>NaN</td>\n",
       "      <td>317317.1040</td>\n",
       "      <td>NaN</td>\n",
       "      <td>1.248588</td>\n",
       "      <td>1.743590</td>\n",
       "      <td>1.396450</td>\n",
       "    </tr>\n",
       "    <tr>\n",
       "      <th>2</th>\n",
       "      <td>threehorned wartyback</td>\n",
       "      <td>65.90</td>\n",
       "      <td>51.3</td>\n",
       "      <td>42.5</td>\n",
       "      <td>NaN</td>\n",
       "      <td>143678.4750</td>\n",
       "      <td>NaN</td>\n",
       "      <td>1.284600</td>\n",
       "      <td>1.550588</td>\n",
       "      <td>1.207059</td>\n",
       "    </tr>\n",
       "    <tr>\n",
       "      <th>3</th>\n",
       "      <td>southern mapleleaf</td>\n",
       "      <td>63.90</td>\n",
       "      <td>56.5</td>\n",
       "      <td>38.0</td>\n",
       "      <td>NaN</td>\n",
       "      <td>137193.3000</td>\n",
       "      <td>NaN</td>\n",
       "      <td>1.130973</td>\n",
       "      <td>1.681579</td>\n",
       "      <td>1.486842</td>\n",
       "    </tr>\n",
       "    <tr>\n",
       "      <th>4</th>\n",
       "      <td>southern mapleleaf</td>\n",
       "      <td>63.10</td>\n",
       "      <td>52.6</td>\n",
       "      <td>33.1</td>\n",
       "      <td>NaN</td>\n",
       "      <td>109860.8860</td>\n",
       "      <td>NaN</td>\n",
       "      <td>1.199620</td>\n",
       "      <td>1.906344</td>\n",
       "      <td>1.589124</td>\n",
       "    </tr>\n",
       "  </tbody>\n",
       "</table>\n",
       "</div>"
      ],
      "text/plain": [
       "                 Species  Length  Height  Inflation  Mass        prizm  \\\n",
       "0             pistolgrip  127.63    84.4       54.3   NaN  584918.0796   \n",
       "1           texas pigtoe   88.40    70.8       50.7   NaN  317317.1040   \n",
       "2  threehorned wartyback   65.90    51.3       42.5   NaN  143678.4750   \n",
       "3     southern mapleleaf   63.90    56.5       38.0   NaN  137193.3000   \n",
       "4     southern mapleleaf   63.10    52.6       33.1   NaN  109860.8860   \n",
       "\n",
       "   density       L/H       L/I       H/I  \n",
       "0      NaN  1.512204  2.350460  1.554328  \n",
       "1      NaN  1.248588  1.743590  1.396450  \n",
       "2      NaN  1.284600  1.550588  1.207059  \n",
       "3      NaN  1.130973  1.681579  1.486842  \n",
       "4      NaN  1.199620  1.906344  1.589124  "
      ]
     },
     "execution_count": 17,
     "metadata": {},
     "output_type": "execute_result"
    }
   ],
   "source": [
    "#crate new features based on calculated fields\n",
    "mussels['prizm']= mussels['Length']*mussels['Height']*mussels['Inflation']        \n",
    "mussels['density']= 1000*mussels['Mass']/(mussels['Length']*mussels['Height']*mussels['Inflation'])                       \n",
    "mussels['L/H']=mussels.Length/mussels.Height\n",
    "mussels['L/I']=mussels.Length/mussels.Inflation\n",
    "mussels['H/I']=mussels.Height/mussels.Inflation\n",
    "mussels.head()"
   ]
  },
  {
   "cell_type": "code",
   "execution_count": 19,
   "metadata": {
    "collapsed": false
   },
   "outputs": [
    {
     "name": "stdout",
     "output_type": "stream",
     "text": [
      "(341, 10)\n"
     ]
    },
    {
     "data": {
      "text/plain": [
       "texas pigtoe             170\n",
       "southern mapleleaf        84\n",
       "pistolgrip                27\n",
       "threehorned wartyback     25\n",
       "deertoe                    9\n",
       "threeridge                 7\n",
       "washboard                  7\n",
       "western pimpleback         6\n",
       "louisiana pigtoe           6\n",
       "Name: Species, dtype: int64"
      ]
     },
     "execution_count": 19,
     "metadata": {},
     "output_type": "execute_result"
    }
   ],
   "source": [
    "#drop features with insufficient individuals\n",
    "mussels_trim=mussels[mussels['Species'].isin(mussels['Species'].value_counts()[mussels['Species'].value_counts()>3].index)]\n",
    "print (mussels_trim.shape)\n",
    "mussels_trim.Species.value_counts()"
   ]
  },
  {
   "cell_type": "code",
   "execution_count": 34,
   "metadata": {
    "collapsed": false
   },
   "outputs": [],
   "source": [
    "#bokeh Practice\n",
    "from bokeh.plotting import figure\n",
    "from bokeh.io import output_file, show\n",
    "tpt= mussels_trim[mussels_trim.Species=='texas pigtoe']\n",
    "output_file(\"line.html\")\n",
    "f=figure()\n",
    "f.triangle(tpt.Length,tpt.Height,tpt.Inflation)\n",
    "show(f)"
   ]
  },
  {
   "cell_type": "code",
   "execution_count": 35,
   "metadata": {
    "collapsed": false
   },
   "outputs": [
    {
     "data": {
      "text/plain": [
       "['__cached_all__overridden_defaults__',\n",
       " '__cached_all__properties__',\n",
       " '__cached_all__properties_with_refs__',\n",
       " '__class__',\n",
       " '__container_props__',\n",
       " '__dataspecs__',\n",
       " '__delattr__',\n",
       " '__deprecated_attributes__',\n",
       " '__dict__',\n",
       " '__dir__',\n",
       " '__doc__',\n",
       " '__eq__',\n",
       " '__format__',\n",
       " '__ge__',\n",
       " '__getattribute__',\n",
       " '__gt__',\n",
       " '__hash__',\n",
       " '__init__',\n",
       " '__le__',\n",
       " '__lt__',\n",
       " '__module__',\n",
       " '__ne__',\n",
       " '__new__',\n",
       " '__overridden_defaults__',\n",
       " '__properties__',\n",
       " '__properties_with_refs__',\n",
       " '__reduce__',\n",
       " '__reduce_ex__',\n",
       " '__repr__',\n",
       " '__setattr__',\n",
       " '__sizeof__',\n",
       " '__str__',\n",
       " '__subclasshook__',\n",
       " '__subtype__',\n",
       " '__view_model__',\n",
       " '__weakref__',\n",
       " '_attach_document',\n",
       " '_axis',\n",
       " '_callbacks',\n",
       " '_check_colon_in_category_label',\n",
       " '_check_compatible_scale_and_ranges',\n",
       " '_check_missing_renderers',\n",
       " '_check_no_data_renderers',\n",
       " '_check_required_range',\n",
       " '_check_required_scale',\n",
       " '_check_snapped_toolbar_and_axis',\n",
       " '_clone',\n",
       " '_detach_document',\n",
       " '_document',\n",
       " '_event_callbacks',\n",
       " '_grid',\n",
       " '_id',\n",
       " '_overridden_defaults',\n",
       " '_property_values',\n",
       " '_repr_html_',\n",
       " '_repr_pretty',\n",
       " '_scale',\n",
       " '_to_json_like',\n",
       " '_trigger_event',\n",
       " '_unstable_default_values',\n",
       " '_unstable_themed_values',\n",
       " '_update_event_callbacks',\n",
       " 'above',\n",
       " 'add_dynamic_image',\n",
       " 'add_glyph',\n",
       " 'add_layout',\n",
       " 'add_tile',\n",
       " 'add_tools',\n",
       " 'annular_wedge',\n",
       " 'annulus',\n",
       " 'apply_theme',\n",
       " 'arc',\n",
       " 'asterisk',\n",
       " 'axis',\n",
       " 'background_fill_alpha',\n",
       " 'background_fill_color',\n",
       " 'below',\n",
       " 'bezier',\n",
       " 'border_fill_alpha',\n",
       " 'border_fill_color',\n",
       " 'circle',\n",
       " 'circle_cross',\n",
       " 'circle_x',\n",
       " 'column',\n",
       " 'cross',\n",
       " 'css_classes',\n",
       " 'dataspecs',\n",
       " 'dataspecs_with_props',\n",
       " 'diamond',\n",
       " 'diamond_cross',\n",
       " 'disabled',\n",
       " 'document',\n",
       " 'ellipse',\n",
       " 'equals',\n",
       " 'extra_x_ranges',\n",
       " 'extra_y_ranges',\n",
       " 'grid',\n",
       " 'h_symmetry',\n",
       " 'hbar',\n",
       " 'height',\n",
       " 'hidpi',\n",
       " 'html',\n",
       " 'image',\n",
       " 'image_rgba',\n",
       " 'image_url',\n",
       " 'inner_height',\n",
       " 'inner_width',\n",
       " 'inverted_triangle',\n",
       " 'js_event_callbacks',\n",
       " 'js_on_change',\n",
       " 'js_on_event',\n",
       " 'js_property_callbacks',\n",
       " 'layout',\n",
       " 'layout_height',\n",
       " 'layout_width',\n",
       " 'left',\n",
       " 'legend',\n",
       " 'line',\n",
       " 'lod_factor',\n",
       " 'lod_interval',\n",
       " 'lod_threshold',\n",
       " 'lod_timeout',\n",
       " 'lookup',\n",
       " 'min_border',\n",
       " 'min_border_bottom',\n",
       " 'min_border_left',\n",
       " 'min_border_right',\n",
       " 'min_border_top',\n",
       " 'multi_line',\n",
       " 'name',\n",
       " 'on_change',\n",
       " 'on_event',\n",
       " 'outline_line_alpha',\n",
       " 'outline_line_cap',\n",
       " 'outline_line_color',\n",
       " 'outline_line_dash',\n",
       " 'outline_line_dash_offset',\n",
       " 'outline_line_join',\n",
       " 'outline_line_width',\n",
       " 'output_backend',\n",
       " 'oval',\n",
       " 'patch',\n",
       " 'patches',\n",
       " 'plot_height',\n",
       " 'plot_width',\n",
       " 'pprint',\n",
       " 'pretty',\n",
       " 'properties',\n",
       " 'properties_containers',\n",
       " 'properties_with_refs',\n",
       " 'properties_with_values',\n",
       " 'quad',\n",
       " 'quadratic',\n",
       " 'query_properties_with_values',\n",
       " 'ray',\n",
       " 'rect',\n",
       " 'ref',\n",
       " 'references',\n",
       " 'remove_on_change',\n",
       " 'renderers',\n",
       " 'right',\n",
       " 'row',\n",
       " 'scatter',\n",
       " 'segment',\n",
       " 'select',\n",
       " 'select_one',\n",
       " 'set_from_json',\n",
       " 'set_select',\n",
       " 'sizing_mode',\n",
       " 'square',\n",
       " 'square_cross',\n",
       " 'square_x',\n",
       " 'subscribed_events',\n",
       " 'tags',\n",
       " 'text',\n",
       " 'themed_values',\n",
       " 'title',\n",
       " 'title_location',\n",
       " 'to_json',\n",
       " 'to_json_string',\n",
       " 'tool_events',\n",
       " 'toolbar',\n",
       " 'toolbar_location',\n",
       " 'toolbar_sticky',\n",
       " 'tools',\n",
       " 'triangle',\n",
       " 'trigger',\n",
       " 'unapply_theme',\n",
       " 'update',\n",
       " 'update_from_json',\n",
       " 'v_symmetry',\n",
       " 'vbar',\n",
       " 'webgl',\n",
       " 'wedge',\n",
       " 'width',\n",
       " 'x',\n",
       " 'x_mapper_type',\n",
       " 'x_range',\n",
       " 'x_scale',\n",
       " 'xaxis',\n",
       " 'xgrid',\n",
       " 'y_mapper_type',\n",
       " 'y_range',\n",
       " 'y_scale',\n",
       " 'yaxis',\n",
       " 'ygrid']"
      ]
     },
     "execution_count": 35,
     "metadata": {},
     "output_type": "execute_result"
    }
   ],
   "source": [
    "dir(f)"
   ]
  },
  {
   "cell_type": "code",
   "execution_count": 31,
   "metadata": {
    "collapsed": false
   },
   "outputs": [
    {
     "name": "stdout",
     "output_type": "stream",
     "text": [
      "(341,) (341, 7)\n"
     ]
    }
   ],
   "source": [
    "X=mussels_trim.drop(['Species','Mass','density'],axis=1)\n",
    "y=mussels_trim['Species']\n",
    "print (y.shape, X.shape)"
   ]
  },
  {
   "cell_type": "code",
   "execution_count": null,
   "metadata": {
    "collapsed": false
   },
   "outputs": [],
   "source": [
    "massdf=mussels_trim.dropna(axis=0,how='any')\n",
    "X_mass=massdf.drop(['Species'],axis=1)\n",
    "y_mass=massdf['Species']\n",
    "print (y_mass.shape,X_mass.shape)\n",
    "massdf.head()"
   ]
  },
  {
   "cell_type": "code",
   "execution_count": null,
   "metadata": {
    "collapsed": true
   },
   "outputs": [],
   "source": [
    "from sklearn import preprocessing\n",
    "le = preprocessing.LabelEncoder()"
   ]
  },
  {
   "cell_type": "code",
   "execution_count": null,
   "metadata": {
    "collapsed": true
   },
   "outputs": [],
   "source": [
    "y_vect=le.fit_transform(y)\n",
    "y_mass_vect=le.fit_transform(y_mass)"
   ]
  },
  {
   "cell_type": "code",
   "execution_count": null,
   "metadata": {
    "collapsed": false
   },
   "outputs": [],
   "source": [
    "from sklearn.decomposition import PCA #Principal component analysis\n",
    "pca = PCA()\n",
    "X_PCA = pca.fit(X).transform(X)\n",
    "X_mass_pca = pca.fit(X).transform(X)"
   ]
  },
  {
   "cell_type": "code",
   "execution_count": null,
   "metadata": {
    "collapsed": false
   },
   "outputs": [],
   "source": [
    "from sklearn.model_selection import train_test_split\n",
    "X_train, X_test, y_train, y_test = train_test_split(X, y_vect, test_size=0.3)\n",
    "print X_train.shape\n",
    "print y_train.shape\n",
    "X_train2, X_test2, y_train2, y_test2 = train_test_split(X_mass, y_mass_vect, test_size=0.3)\n",
    "print X_train2.shape\n",
    "print y_train2.shape"
   ]
  },
  {
   "cell_type": "markdown",
   "metadata": {},
   "source": [
    "KNN classifier"
   ]
  },
  {
   "cell_type": "code",
   "execution_count": null,
   "metadata": {
    "collapsed": false
   },
   "outputs": [],
   "source": [
    "from sklearn.neighbors import KNeighborsClassifier\n",
    "from sklearn.preprocessing import StandardScaler\n",
    "scaler = StandardScaler()\n",
    "X = scaler.fit_transform(X)\n",
    "model = KNeighborsClassifier(n_neighbors=4)\n",
    "from sklearn.model_selection import cross_val_score\n",
    "scores = cross_val_score(model, X, y_vect)\n",
    "\n",
    "scores_pca = cross_val_score(model, X_PCA, y_vect)\n",
    "print(scores)\n",
    "print(scores_pca)\n",
    "print(\"Mean Accuracy:\", scores.mean())\n",
    "print(\"Mean Accuracy:\", scores_pca.mean())"
   ]
  },
  {
   "cell_type": "code",
   "execution_count": null,
   "metadata": {
    "collapsed": false
   },
   "outputs": [],
   "source": [
    "X_mass = scaler.fit_transform(X_mass)\n",
    "model = KNeighborsClassifier(n_neighbors=3)\n",
    "from sklearn.model_selection import cross_val_score\n",
    "scores_mass = cross_val_score(model, X_mass, y_mass_vect)\n",
    "print(scores)\n",
    "print(\"Mean Accuracy:\", scores_mass.mean())\n",
    "model.fit(X_train,y_train)\n",
    "pred=model.predict(X_test)\n",
    "\n",
    "print model.score(X_test,y_test)"
   ]
  },
  {
   "cell_type": "code",
   "execution_count": null,
   "metadata": {
    "collapsed": false
   },
   "outputs": [],
   "source": [
    "for num_neighbors in range(1, 7):\n",
    "    # Build the model object and set the number of neighbors required.\n",
    "    # We will use the default distance metric, Euclidean distance\n",
    "    model = KNeighborsClassifier(n_neighbors=num_neighbors)\n",
    "\n",
    "    # Use cross-validation to evaluate the accuracy of the model\n",
    "    scores = cross_val_score(model, X_mass, y_mass)\n",
    "    print(\"Neighbors:\", num_neighbors, \"Mean Accuracy:\", scores.mean())"
   ]
  },
  {
   "cell_type": "code",
   "execution_count": null,
   "metadata": {
    "collapsed": true
   },
   "outputs": [],
   "source": [
    "scores_mass = cross_val_score(model, X_mass, y_mass_vect)\n",
    "print(scores)\n",
    "print(\"Mean Accuracy:\", scores_mass.mean())"
   ]
  },
  {
   "cell_type": "markdown",
   "metadata": {},
   "source": [
    "Logisitic regression with gridSearch"
   ]
  },
  {
   "cell_type": "code",
   "execution_count": null,
   "metadata": {
    "collapsed": true
   },
   "outputs": [],
   "source": [
    "from sklearn.linear_model import LogisticRegression\n",
    "from sklearn.model_selection import GridSearchCV\n",
    "\n",
    "from sklearn.metrics import confusion_matrix, classification_report"
   ]
  },
  {
   "cell_type": "code",
   "execution_count": null,
   "metadata": {
    "collapsed": false
   },
   "outputs": [],
   "source": [
    "model = GridSearchCV(LogisticRegression(), {'C': [0.001, 0.01, 0.1,0.25,0.3,0.4,0.5,0.6,0.75,\n",
    "                                                  1.0,1.1,1.2,1.5, 10.0,20],\n",
    "                                            'penalty': ['l1', 'l2']})\n",
    "model2 = GridSearchCV(LogisticRegression(), {'C': [0.001, 0.01, 0.1,0.25,0.3,0.4,0.5,0.6,0.75,\n",
    "                                                  1.0,1.1,1.2,1.5, 10.0,20,50],\n",
    "                                            'penalty': ['l1', 'l2']})\n",
    "full=model.fit(X_train, y_train)\n",
    "mass=model2.fit(X_train2,y_train2)\n",
    "predy=model.predict(X_test)\n",
    "print \"full:\", full.best_params_\n",
    "print full.best_score_\n",
    "print \"mass: \", mass.best_params_\n",
    "print mass.best_score_\n",
    "print model.score(X_test,y_test)"
   ]
  },
  {
   "cell_type": "code",
   "execution_count": null,
   "metadata": {
    "collapsed": false
   },
   "outputs": [],
   "source": [
    "y_pred = full.predict(X_test)\n",
    "y_pred2 = mass.predict(X_test2)\n",
    "#pigtoe = full.predict([54,])\n",
    "print full.score(X_test,y_pred)\n",
    "X_test.shape"
   ]
  },
  {
   "cell_type": "code",
   "execution_count": null,
   "metadata": {
    "collapsed": false
   },
   "outputs": [],
   "source": [
    "cm = confusion_matrix(y_test, y_pred)\n",
    "idx = y.values\n",
    "#col = ['Predicted Dead', 'Predicted Survived']\n",
    "cmdf = pd.DataFrame(cm)#, index=idx)#, columns=col)\n",
    "cmdf"
   ]
  },
  {
   "cell_type": "code",
   "execution_count": null,
   "metadata": {
    "collapsed": false
   },
   "outputs": [],
   "source": [
    "cm2 = confusion_matrix(y_test2, y_pred2)\n",
    "#idx = y.columns\n",
    "#col = ['Predicted Dead', 'Predicted Survived']\n",
    "cmdf2 = pd.DataFrame(cm2)#, index=idx, columns=col)\n",
    "cmdf2"
   ]
  },
  {
   "cell_type": "code",
   "execution_count": null,
   "metadata": {
    "collapsed": false
   },
   "outputs": [],
   "source": [
    "#silhouette = metrics.silhouette_score(X_test, y_pred, metric='euclidean')"
   ]
  },
  {
   "cell_type": "markdown",
   "metadata": {},
   "source": [
    "Decision Trees"
   ]
  },
  {
   "cell_type": "code",
   "execution_count": null,
   "metadata": {
    "collapsed": false
   },
   "outputs": [],
   "source": [
    "from sklearn.tree import DecisionTreeClassifier\n",
    "\n",
    "dt = DecisionTreeClassifier(max_depth = 7, min_samples_split = 1,criterion='entropy' )\n",
    "dt.fit(X_train, y_train)\n",
    "#mass = dt.fit(X_train2, y_train2)\n",
    "print dt.score(X_train,y_train)"
   ]
  },
  {
   "cell_type": "code",
   "execution_count": null,
   "metadata": {
    "collapsed": false
   },
   "outputs": [],
   "source": [
    "X=mussels_trim.drop(['Species','Mass','density'],axis=1)\n",
    "dt.fit(X,y)\n",
    "print dt.score(X,y)"
   ]
  },
  {
   "cell_type": "code",
   "execution_count": null,
   "metadata": {
    "collapsed": false
   },
   "outputs": [],
   "source": [
    "from sklearn.externals.six import StringIO\n",
    "from sklearn.tree import export_graphviz\n",
    "import pydot\n",
    "from IPython.display import Image\n",
    "print dt.score(X,y)\n",
    "dot_data = StringIO()\n",
    "y_pred = dt.predict(X)\n",
    "export_graphviz(dt, out_file=dot_data,  \n",
    "                feature_names=X.columns,  \n",
    "                class_names=le.classes_,  \n",
    "                filled=True, rounded=True,\n",
    "                proportion=False,leaves_parallel=True,\n",
    "                special_characters=True)\n",
    "graph = pydot.graph_from_dot_data(dot_data.getvalue())  \n",
    "Image(graph.create_png())  "
   ]
  },
  {
   "cell_type": "code",
   "execution_count": null,
   "metadata": {
    "collapsed": false
   },
   "outputs": [],
   "source": [
    "feature_importances = pd.DataFrame(dt.feature_importances_,\n",
    "                                   index = X.columns,\n",
    "                                    columns=['importance']).sort_values('importance',\n",
    "                                                                        ascending=False)\n",
    "feature_importances.head()"
   ]
  },
  {
   "cell_type": "code",
   "execution_count": null,
   "metadata": {
    "collapsed": false
   },
   "outputs": [],
   "source": [
    "type(X_mass)"
   ]
  },
  {
   "cell_type": "code",
   "execution_count": null,
   "metadata": {
    "collapsed": false
   },
   "outputs": [],
   "source": [
    "X_mass=massdf.drop(['Species'],axis=1)\n",
    "dt.fit(X_train2, y_train2)\n",
    "print dt.score(X_test2,y_test2)\n",
    "dot_data = StringIO()\n",
    "y_pred = dt.predict(X_test2)\n",
    "export_graphviz(dt, out_file=dot_data,  \n",
    "                feature_names=X_mass.columns,  \n",
    "                class_names=le.classes_,  \n",
    "                filled=True, rounded=True,\n",
    "                proportion=False,impurity=True,\n",
    "                special_characters=True,leaves_parallel=True)\n",
    "graph = pydot.graph_from_dot_data(dot_data.getvalue())  \n",
    "Image(graph.create_png()) "
   ]
  },
  {
   "cell_type": "code",
   "execution_count": null,
   "metadata": {
    "collapsed": false
   },
   "outputs": [],
   "source": [
    "feature_importances = pd.DataFrame(dt.feature_importances_,\n",
    "                                   index = X_mass.columns,\n",
    "                                    columns=['importance']).sort_values('importance',\n",
    "                                                                        ascending=False)\n",
    "#print dt.score(X_test2,y_test2)\n",
    "#feature_importances.head()"
   ]
  },
  {
   "cell_type": "markdown",
   "metadata": {},
   "source": [
    "XGBoost "
   ]
  },
  {
   "cell_type": "code",
   "execution_count": null,
   "metadata": {
    "collapsed": true
   },
   "outputs": [],
   "source": [
    "from numpy import loadtxt\n",
    "from xgboost import XGBClassifier\n",
    "from sklearn.model_selection import StratifiedKFold"
   ]
  },
  {
   "cell_type": "code",
   "execution_count": null,
   "metadata": {
    "collapsed": false
   },
   "outputs": [],
   "source": [
    "boost = XGBClassifier()\n",
    "boost.fit(X_train, y_train)\n",
    "print boost.score(X_test, y_test)"
   ]
  },
  {
   "cell_type": "code",
   "execution_count": null,
   "metadata": {
    "collapsed": false
   },
   "outputs": [],
   "source": [
    "y_pred_boost = boost.predict(X_test2)\n",
    "predictions = [round(value) for value in y_pred_boost]\n",
    "print boost.score(X_test2, y_pred_boost)\n",
    "cm3 = confusion_matrix(y_test2, y_pred_boost)\n",
    "#idx = y.columns\n",
    "#col = ['Predicted Dead', 'Predicted Survived']\n",
    "cmdf3 = pd.DataFrame(cm3,)#, index=idx, columns=col)\n",
    "cmdf3"
   ]
  },
  {
   "cell_type": "code",
   "execution_count": null,
   "metadata": {
    "collapsed": false
   },
   "outputs": [],
   "source": [
    "kfold = StratifiedKFold(n_splits=3, random_state=7)\n",
    "results = cross_val_score(boost, X_test, y_test, cv=kfold)\n",
    "print results\n",
    "print\"Accuracy: %.2f%%\" % (results.mean()*100)"
   ]
  },
  {
   "cell_type": "code",
   "execution_count": null,
   "metadata": {
    "collapsed": false
   },
   "outputs": [],
   "source": [
    "print classification_report(y_test2, y_pred)\n"
   ]
  },
  {
   "cell_type": "markdown",
   "metadata": {},
   "source": [
    "Random forest and Extra Trees classifiers"
   ]
  },
  {
   "cell_type": "code",
   "execution_count": null,
   "metadata": {
    "collapsed": false
   },
   "outputs": [],
   "source": [
    "from sklearn.ensemble import RandomForestClassifier, ExtraTreesClassifier\n",
    "from sklearn.tree import DecisionTreeClassifier\n",
    "rf = RandomForestClassifier(class_weight='balanced', n_jobs=-1)\n",
    "et = ExtraTreesClassifier(class_weight='balanced', n_jobs=-1)\n",
    "\n",
    "rf.fit(X_train, y_train)\n",
    "et.fit(X_train,y_train)"
   ]
  },
  {
   "cell_type": "code",
   "execution_count": null,
   "metadata": {
    "collapsed": false
   },
   "outputs": [],
   "source": [
    "print rf.score(X_test, y_test)\n",
    "print et.score(X_test, y_test)"
   ]
  },
  {
   "cell_type": "code",
   "execution_count": null,
   "metadata": {
    "collapsed": false
   },
   "outputs": [],
   "source": [
    "rf.fit(X_train2, y_train2)\n",
    "et.fit(X_train2,y_train2)\n",
    "print rf.score(X_test2, y_test2)\n",
    "print et.score(X_test2, y_test2)"
   ]
  },
  {
   "cell_type": "code",
   "execution_count": null,
   "metadata": {
    "collapsed": false
   },
   "outputs": [],
   "source": [
    "import numpy as np\n",
    "all(rf.feature_importances_ == np.mean([tree.feature_importances_ for tree in rf.estimators_], axis=0))\n",
    "\n",
    "importances = rf.feature_importances_\n",
    "std = np.std([tree.feature_importances_ for tree in rf.estimators_], axis=0)\n",
    "\n",
    "indices = np.argsort(importances)[::-1]\n",
    "feature_names = X.columns\n",
    "\n",
    "plt.figure()\n",
    "plt.title(\"Feature importances\")\n",
    "plt.bar(range(X.shape[1]), importances[indices],\n",
    "       color=\"r\", yerr=std[indices], align=\"center\")\n",
    "plt.xticks(range(X.shape[1]), feature_names[indices], rotation=90)\n",
    "plt.xlim([-1, X.shape[1]])\n",
    "#plt.show()"
   ]
  },
  {
   "cell_type": "code",
   "execution_count": null,
   "metadata": {
    "collapsed": false
   },
   "outputs": [],
   "source": [
    "et.fit(X, y)\n",
    "\n",
    "importances = et.feature_importances_\n",
    "std = np.std([tree.feature_importances_ for tree in et.estimators_], axis=0)\n",
    "\n",
    "indices = np.argsort(importances)[::-1]\n",
    "feature_names = X.columns\n",
    "\n",
    "# Plot the feature importances of the forest\n",
    "plt.figure()\n",
    "plt.title(\"Feature importances\")\n",
    "plt.bar(range(X.shape[1]), importances[indices],\n",
    "       color=\"y\", yerr=std[indices], align=\"center\")\n",
    "plt.xticks(range(X.shape[1]), feature_names[indices], rotation=90)\n",
    "plt.xlim([-1, X.shape[1]])\n",
    "#plt.show()"
   ]
  },
  {
   "cell_type": "code",
   "execution_count": null,
   "metadata": {
    "collapsed": false
   },
   "outputs": [],
   "source": [
    "dt = DecisionTreeClassifier()\n",
    "dt.fit(X, y)\n",
    "\n",
    "importances = pd.DataFrame(zip(dt.feature_importances_,\n",
    "                               rf.feature_importances_,\n",
    "                               et.feature_importances_),\n",
    "                           index=X.columns,\n",
    "                           columns=['dt_importance',\n",
    "                                    'rf_importance',\n",
    "                                    'et_importance']).sort_values('rf_importance',\n",
    "                                                                   ascending=False)\n",
    "\n",
    "print importances.head()\n",
    "importances.plot(kind='bar')\n"
   ]
  },
  {
   "cell_type": "code",
   "execution_count": null,
   "metadata": {
    "collapsed": false
   },
   "outputs": [],
   "source": [
    "from sklearn.discriminant_analysis import LinearDiscriminantAnalysis\n",
    "lda = LinearDiscriminantAnalysis()\n",
    "#lda.score(X_r,y)\n",
    "lda.fit(X_train2,y_train2)\n",
    "pred=lda.predict(X_test2)\n",
    "print lda.score(X_test2,y_test2)"
   ]
  },
  {
   "cell_type": "code",
   "execution_count": null,
   "metadata": {
    "collapsed": true
   },
   "outputs": [],
   "source": []
  }
 ],
 "metadata": {
  "kernelspec": {
   "display_name": "Python 3",
   "language": "python",
   "name": "python3"
  },
  "language_info": {
   "codemirror_mode": {
    "name": "ipython",
    "version": 3
   },
   "file_extension": ".py",
   "mimetype": "text/x-python",
   "name": "python",
   "nbconvert_exporter": "python",
   "pygments_lexer": "ipython3",
   "version": "3.5.2"
  }
 },
 "nbformat": 4,
 "nbformat_minor": 1
}
